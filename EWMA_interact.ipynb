{
 "cells": [
  {
   "cell_type": "code",
   "execution_count": 5,
   "id": "d8bb6a71",
   "metadata": {},
   "outputs": [],
   "source": [
    "import pandas as pd\n",
    "import numpy as np\n",
    "import matplotlib.pyplot as plt\n",
    "from   ipywidgets import interact\n",
    "import kagglehub\n",
    "import os"
   ]
  },
  {
   "cell_type": "code",
   "execution_count": 6,
   "id": "5ccdb3c7",
   "metadata": {},
   "outputs": [],
   "source": [
    "path = kagglehub.dataset_download(\"drnimishadavis/call-center-performance-data\")\n",
    "files = os.listdir(path)\n",
    "filename = next(f for f in files if f.endswith(\".xlsx\"))\n",
    "ful_path = os.path.join(path, filename)\n",
    "df = pd.read_excel(ful_path)\n",
    "\n",
    "# Оставим нужные столбцы и удалим пропуски\n",
    "df_ewma = df[['Date', 'AvgTalkDuration']].copy()\n",
    "df_ewma.dropna(inplace=True)\n",
    "\n",
    "# Преобразуем datetime.time в секунды вручную\n",
    "def time_to_seconds(t):\n",
    "    if pd.isnull(t):\n",
    "        return None\n",
    "    return t.hour * 3600 + t.minute * 60 + t.second + t.microsecond / 1e6\n",
    "\n",
    "df_ewma['AvgTalkDuration_sec'] = df_ewma['AvgTalkDuration'].apply(time_to_seconds)\n",
    "\n",
    "# Средняя длительность разговора по дням\n",
    "avg_talk_by_day = df_ewma.groupby(df_ewma['Date'].dt.date).agg(\n",
    "    AvgTalkDuration_mean=('AvgTalkDuration_sec', 'mean')\n",
    ").reset_index()\n"
   ]
  },
  {
   "cell_type": "code",
   "execution_count": 7,
   "id": "b5f7d382",
   "metadata": {},
   "outputs": [],
   "source": [
    "L = 3\n",
    "mu_0 = avg_talk_by_day['AvgTalkDuration_mean'].mean()\n",
    "sigma = avg_talk_by_day['AvgTalkDuration_mean'].std()"
   ]
  },
  {
   "cell_type": "code",
   "execution_count": 8,
   "id": "5f85e52d",
   "metadata": {},
   "outputs": [
    {
     "data": {
      "application/vnd.jupyter.widget-view+json": {
       "model_id": "8d94792656194991bef8934db70a3511",
       "version_major": 2,
       "version_minor": 0
      },
      "text/plain": [
       "interactive(children=(FloatSlider(value=0.5, description='lambda_', max=1.0, min=0.01, step=0.01), Output()), …"
      ]
     },
     "metadata": {},
     "output_type": "display_data"
    },
    {
     "data": {
      "text/plain": [
       "<function __main__.ewma_chart(lambda_)>"
      ]
     },
     "execution_count": 8,
     "metadata": {},
     "output_type": "execute_result"
    }
   ],
   "source": [
    "\n",
    "def ewma_chart(lambda_):\n",
    "    ewma_values, ucl_values, lcl_values = [], [], []\n",
    "    ewma_prev = mu_0\n",
    "\n",
    "    for i, row in enumerate(avg_talk_by_day.itertuples(), start=1):\n",
    "        xi = row.AvgTalkDuration_mean\n",
    "        ewma = lambda_ * xi + (1 - lambda_) * ewma_prev\n",
    "        ewma_values.append(ewma)\n",
    "        ewma_prev = ewma\n",
    "\n",
    "        std_i = sigma * ((lambda_ / (2 - lambda_)) * (1 - (1 - lambda_)**(2 * i)))**0.5\n",
    "        ucl = mu_0 + L * std_i\n",
    "        lcl = mu_0 - L * std_i\n",
    "        ucl_values.append(ucl)\n",
    "        lcl_values.append(max(0, lcl))\n",
    "\n",
    "    plt.figure(figsize=(14, 6))\n",
    "    plt.plot(avg_talk_by_day['Date'], avg_talk_by_day['AvgTalkDuration_mean'], label='Daily Average', linestyle=':', alpha=0.5)\n",
    "    plt.plot(avg_talk_by_day['Date'], ewma_values, color='blue', marker='o', label='EWMA')\n",
    "    plt.plot(avg_talk_by_day['Date'], [mu_0] * len(avg_talk_by_day), color='green', linestyle='--', label='CL (Mean)')\n",
    "    plt.plot(avg_talk_by_day['Date'], ucl_values, color='red', linestyle='--', label='UCL')\n",
    "    plt.plot(avg_talk_by_day['Date'], lcl_values, color='red', linestyle='--', label='LCL')\n",
    "    plt.title(f'EWMA Chart: Average Talk Duration (λ = {lambda_:.2f})')\n",
    "    plt.xlabel('Date')\n",
    "    plt.ylabel('Average Talk Duration (sec)')\n",
    "    plt.xticks(rotation=45)\n",
    "    plt.grid(True)\n",
    "    plt.legend()\n",
    "    plt.tight_layout()\n",
    "    plt.show()\n",
    "\n",
    "interact(ewma_chart, lambda_=(0.01, 1.0, 0.01))\n"
   ]
  }
 ],
 "metadata": {
  "kernelspec": {
   "display_name": "my-env",
   "language": "python",
   "name": "python3"
  },
  "language_info": {
   "codemirror_mode": {
    "name": "ipython",
    "version": 3
   },
   "file_extension": ".py",
   "mimetype": "text/x-python",
   "name": "python",
   "nbconvert_exporter": "python",
   "pygments_lexer": "ipython3",
   "version": "3.13.2"
  }
 },
 "nbformat": 4,
 "nbformat_minor": 5
}
